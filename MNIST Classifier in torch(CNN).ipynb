{
 "cells": [
  {
   "cell_type": "code",
   "execution_count": 89,
   "metadata": {},
   "outputs": [],
   "source": [
    "import torch\n",
    "import torchvision\n",
    "from torchvision import transforms,datasets\n",
    "import torch.nn as nn\n",
    "import torch.nn.functional as F"
   ]
  },
  {
   "cell_type": "code",
   "execution_count": 90,
   "metadata": {},
   "outputs": [],
   "source": [
    "#You can change the download to True if you don't have MNIST in your device\n",
    "train=datasets.MNIST(\"\",train=True,download=False,transform=transforms.Compose([transforms.ToTensor()]))"
   ]
  },
  {
   "cell_type": "code",
   "execution_count": 91,
   "metadata": {},
   "outputs": [],
   "source": [
    "test=datasets.MNIST(\"\",train=False,download=False,transform=transforms.Compose([transforms.ToTensor()]))\n",
    "batch=16"
   ]
  },
  {
   "cell_type": "code",
   "execution_count": 92,
   "metadata": {},
   "outputs": [],
   "source": [
    "train_set=torch.utils.data.DataLoader(train,batch_size=batch,shuffle=True)\n",
    "test_set=torch.utils.data.DataLoader(test,batch_size=batch,shuffle=True)"
   ]
  },
  {
   "cell_type": "code",
   "execution_count": 93,
   "metadata": {},
   "outputs": [
    {
     "data": {
      "text/plain": [
       "Net(\n",
       "  (conv): Sequential(\n",
       "    (0): Conv2d(1, 4, kernel_size=(4, 4), stride=(2, 2))\n",
       "    (1): ReLU()\n",
       "    (2): Conv2d(4, 8, kernel_size=(5, 5), stride=(2, 2))\n",
       "    (3): ReLU()\n",
       "  )\n",
       "  (fcc): Sequential(\n",
       "    (0): Linear(in_features=200, out_features=96, bias=True)\n",
       "    (1): Linear(in_features=96, out_features=32, bias=True)\n",
       "    (2): Linear(in_features=32, out_features=10, bias=True)\n",
       "  )\n",
       ")"
      ]
     },
     "execution_count": 93,
     "metadata": {},
     "output_type": "execute_result"
    }
   ],
   "source": [
    "class Net(nn.Module):\n",
    "    def __init__(self):\n",
    "        super().__init__()\n",
    "        self.conv=nn.Sequential(\n",
    "        nn.Conv2d(1,4,4,2),\n",
    "        nn.ReLU(),\n",
    "        nn.Conv2d(4,8,5,2),\n",
    "        nn.ReLU(),\n",
    "        )\n",
    "        self.fcc=nn.Sequential(\n",
    "        nn.Linear(200,96),\n",
    "        nn.Linear(96,32),\n",
    "        nn.Linear(32,10),\n",
    "        )\n",
    "    def forward(self, x):\n",
    "        x=self.conv(x)\n",
    "        x=x.view(x.shape[0],-1)\n",
    "        x=self.fcc(x)\n",
    "        return x\n",
    "\n",
    "net = Net()\n",
    "net"
   ]
  },
  {
   "cell_type": "code",
   "execution_count": 94,
   "metadata": {},
   "outputs": [],
   "source": [
    "import torch.optim as optim\n",
    "loss_function = nn.CrossEntropyLoss()\n",
    "optimizer = torch.optim.Adam(net.parameters(), lr=0.001)"
   ]
  },
  {
   "cell_type": "code",
   "execution_count": 95,
   "metadata": {},
   "outputs": [
    {
     "name": "stdout",
     "output_type": "stream",
     "text": [
      "For iteration: 1 Loss is: 0.20548643171787262 Accuracy is: 91.90833333333333\n",
      "For iteration: 2 Loss is: 0.6356586217880249 Accuracy is: 94.36166666666666\n",
      "For iteration: 3 Loss is: 0.1279747188091278 Accuracy is: 95.32388888888889\n",
      "For iteration: 4 Loss is: 0.02993927150964737 Accuracy is: 95.88458333333332\n",
      "For iteration: 5 Loss is: 0.002998314332216978 Accuracy is: 96.25266666666667\n",
      "For iteration: 6 Loss is: 0.04681737720966339 Accuracy is: 96.51805555555556\n",
      "For iteration: 7 Loss is: 0.11408833414316177 Accuracy is: 96.7304761904762\n",
      "For iteration: 8 Loss is: 0.004910278134047985 Accuracy is: 96.895\n",
      "For iteration: 9 Loss is: 0.00044270194484852254 Accuracy is: 97.0325925925926\n",
      "For iteration: 10 Loss is: 0.00043528794776648283 Accuracy is: 97.14699999999999\n"
     ]
    }
   ],
   "source": [
    "loss_list=[]\n",
    "correct=0\n",
    "total=0            \n",
    "for epoch in range(10):\n",
    "    for data in train_set:  \n",
    "        X, Y = data  \n",
    "        net.zero_grad()\n",
    "        output = net(X) \n",
    "        loss = loss_function(output, Y) \n",
    "        loss_list.append(loss.item())\n",
    "        loss.backward()  \n",
    "        optimizer.step()\n",
    "        for idx, i in enumerate(output):\n",
    "            if torch.argmax(i) == Y[idx]:\n",
    "                correct += 1\n",
    "            total += 1\n",
    "    print(\"For iteration:\",epoch+1,\"Loss is:\",loss.item(),\"Accuracy is:\",(correct/total)*100)  "
   ]
  },
  {
   "cell_type": "code",
   "execution_count": 96,
   "metadata": {},
   "outputs": [
    {
     "name": "stdout",
     "output_type": "stream",
     "text": [
      "Accuracy:  98.13\n"
     ]
    }
   ],
   "source": [
    "correct = 0\n",
    "total = 0\n",
    "with torch.no_grad():\n",
    "    for data in test_set:\n",
    "        X, Y = data\n",
    "        output = net(X)\n",
    "        #print(output)\n",
    "        for idx, i in enumerate(output):\n",
    "            if torch.argmax(i) == Y[idx]:\n",
    "                correct += 1\n",
    "            total += 1\n",
    "\n",
    "print(\"Accuracy: \", (correct/total)*100)"
   ]
  },
  {
   "cell_type": "code",
   "execution_count": 97,
   "metadata": {},
   "outputs": [
    {
     "data": {
      "image/png": "[encoded data removed]",
      "text/plain": [
       "<Figure size 432x288 with 1 Axes>"
      ]
     },
     "metadata": {
      "needs_background": "light"
     },
     "output_type": "display_data"
    }
   ],
   "source": [
    "import matplotlib.pyplot as plt\n",
    "plt.plot(loss_list)\n",
    "plt.xlabel('Iterations')\n",
    "plt.ylabel('Cost')\n",
    "plt.title('Cost')\n",
    "plt.show()"
   ]
  },
  {
   "cell_type": "code",
   "execution_count": 98,
   "metadata": {},
   "outputs": [],
   "source": [
    "#NOW, TESTING THE ABOVE CODE"
   ]
  },
  {
   "cell_type": "code",
   "execution_count": 99,
   "metadata": {},
   "outputs": [
    {
     "name": "stdout",
     "output_type": "stream",
     "text": [
      "Given Image is 8\n"
     ]
    },
    {
     "data": {
      "image/png": "[encoded data removed]",
      "text/plain": [
       "<Figure size 432x288 with 1 Axes>"
      ]
     },
     "metadata": {
      "needs_background": "light"
     },
     "output_type": "display_data"
    }
   ],
   "source": [
    "import numpy as np\n",
    "train_set = datasets.MNIST('./data', train=True, download=False)\n",
    "test_set = datasets.MNIST('./data', train=False, download=False)\n",
    "train_img = train_set.data.numpy()\n",
    "test_img = test_set.data.numpy()\n",
    "img_tensor=transforms.ToTensor()\n",
    "req=test_img[4545]\n",
    "req=img_tensor(req)\n",
    "req=req.view(1,1,28,28)\n",
    "plt.imshow(np.squeeze(test_img[4545]))\n",
    "output=net(req)\n",
    "prediction=torch.argmax(output)\n",
    "print(\"Given Image is\",prediction.item())"
   ]
  },
  {
   "cell_type": "code",
   "execution_count": null,
   "metadata": {},
   "outputs": [],
   "source": []
  }
 ],
 "metadata": {
  "kernelspec": {
   "display_name": "Python 3",
   "language": "python",
   "name": "python3"
  },
  "language_info": {
   "codemirror_mode": {
    "name": "ipython",
    "version": 3
   },
   "file_extension": ".py",
   "mimetype": "text/x-python",
   "name": "python",
   "nbconvert_exporter": "python",
   "pygments_lexer": "ipython3",
   "version": "3.8.5"
  }
 },
 "nbformat": 4,
 "nbformat_minor": 4
}
