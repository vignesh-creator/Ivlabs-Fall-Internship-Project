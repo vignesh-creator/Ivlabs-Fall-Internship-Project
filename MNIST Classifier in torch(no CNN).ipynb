{
 "cells": [
  {
   "cell_type": "code",
   "execution_count": 20,
   "metadata": {},
   "outputs": [],
   "source": [
    "import torch\n",
    "import torchvision\n",
    "from torchvision import transforms,datasets\n",
    "import torch.nn as nn\n",
    "import torch.nn.functional as F"
   ]
  },
  {
   "cell_type": "code",
   "execution_count": 21,
   "metadata": {},
   "outputs": [],
   "source": [
    "#You can change the download to True if you don't have MNIST in your device\n",
    "train=datasets.MNIST(\"\",train=True,download=False,transform=transforms.Compose([transforms.ToTensor()]))"
   ]
  },
  {
   "cell_type": "code",
   "execution_count": 22,
   "metadata": {},
   "outputs": [],
   "source": [
    "test=datasets.MNIST(\"\",train=False,download=False,transform=transforms.Compose([transforms.ToTensor()]))\n",
    "batch=16"
   ]
  },
  {
   "cell_type": "code",
   "execution_count": 23,
   "metadata": {},
   "outputs": [],
   "source": [
    "train_set=torch.utils.data.DataLoader(train,batch_size=batch,shuffle=True)\n",
    "test_set=torch.utils.data.DataLoader(test,batch_size=batch,shuffle=True)"
   ]
  },
  {
   "cell_type": "code",
   "execution_count": 24,
   "metadata": {},
   "outputs": [
    {
     "data": {
      "text/plain": [
       "Net(\n",
       "  (fc1): Linear(in_features=784, out_features=128, bias=True)\n",
       "  (fc2): Linear(in_features=128, out_features=64, bias=True)\n",
       "  (fc3): Linear(in_features=64, out_features=64, bias=True)\n",
       "  (fc4): Linear(in_features=64, out_features=10, bias=True)\n",
       ")"
      ]
     },
     "execution_count": 24,
     "metadata": {},
     "output_type": "execute_result"
    }
   ],
   "source": [
    "class Net(nn.Module):\n",
    "    def __init__(self):\n",
    "        super().__init__()\n",
    "        self.fc1 = nn.Linear(28*28,128)\n",
    "        self.fc2 = nn.Linear(128,64)\n",
    "        self.fc3 = nn.Linear(64,64)\n",
    "        self.fc4=nn.Linear(64,10)\n",
    "\n",
    "    def forward(self, x):\n",
    "        x = F.relu(self.fc1(x))\n",
    "        x = F.relu(self.fc2(x))\n",
    "        x = F.relu(self.fc3(x))\n",
    "        x = self.fc4(x)\n",
    "        return x\n",
    "\n",
    "net = Net()\n",
    "net"
   ]
  },
  {
   "cell_type": "code",
   "execution_count": 25,
   "metadata": {},
   "outputs": [],
   "source": [
    "import torch.optim as optim\n",
    "loss_function = nn.CrossEntropyLoss()\n",
    "optimizer = torch.optim.Adam(net.parameters(), lr=0.001)"
   ]
  },
  {
   "cell_type": "code",
   "execution_count": 26,
   "metadata": {},
   "outputs": [
    {
     "name": "stdout",
     "output_type": "stream",
     "text": [
      "For iteration: 1 Loss is: 0.005222260486334562 Accuracy is: 92.30166666666668\n",
      "For iteration: 2 Loss is: 0.009805669076740742 Accuracy is: 94.48333333333333\n",
      "For iteration: 3 Loss is: 0.018711818382143974 Accuracy is: 95.52888888888889\n",
      "For iteration: 4 Loss is: 0.1507033109664917 Accuracy is: 96.16083333333333\n",
      "For iteration: 5 Loss is: 0.0006889878422953188 Accuracy is: 96.60666666666667\n",
      "For iteration: 6 Loss is: 0.07353829592466354 Accuracy is: 96.94305555555556\n",
      "For iteration: 7 Loss is: 0.03903234004974365 Accuracy is: 97.2154761904762\n",
      "For iteration: 8 Loss is: 0.1165575310587883 Accuracy is: 97.43437499999999\n",
      "For iteration: 9 Loss is: 0.00032704457407817245 Accuracy is: 97.61888888888889\n",
      "For iteration: 10 Loss is: 0.0027950992807745934 Accuracy is: 97.7715\n"
     ]
    }
   ],
   "source": [
    "loss_list=[]\n",
    "correct=0\n",
    "total=0            \n",
    "for epoch in range(10):\n",
    "    for data in train_set:  \n",
    "        X, Y = data  \n",
    "        net.zero_grad()\n",
    "        output = net(X.view(-1,784)) \n",
    "        loss = loss_function(output, Y) \n",
    "        loss_list.append(loss.item())\n",
    "        loss.backward()  \n",
    "        optimizer.step()\n",
    "        for idx, i in enumerate(output):\n",
    "            if torch.argmax(i) == Y[idx]:\n",
    "                correct += 1\n",
    "            total += 1\n",
    "    print(\"For iteration:\",epoch+1,\"Loss is:\",loss.item(),\"Accuracy is:\",(correct/total)*100)  "
   ]
  },
  {
   "cell_type": "code",
   "execution_count": 27,
   "metadata": {},
   "outputs": [
    {
     "name": "stdout",
     "output_type": "stream",
     "text": [
      "Accuracy:  97.87\n"
     ]
    }
   ],
   "source": [
    "correct = 0\n",
    "total = 0\n",
    "with torch.no_grad():\n",
    "    for data in test_set:\n",
    "        X, Y = data\n",
    "        output = net(X.view(-1,784))\n",
    "        #print(output)\n",
    "        for idx, i in enumerate(output):\n",
    "            if torch.argmax(i) == Y[idx]:\n",
    "                correct += 1\n",
    "            total += 1\n",
    "\n",
    "print(\"Accuracy: \", (correct/total)*100)"
   ]
  },
  {
   "cell_type": "code",
   "execution_count": 28,
   "metadata": {},
   "outputs": [
    {
     "data": {
      "image/png": "[encoded data removed]",
      "text/plain": [
       "<Figure size 432x288 with 1 Axes>"
      ]
     },
     "metadata": {
      "needs_background": "light"
     },
     "output_type": "display_data"
    }
   ],
   "source": [
    "import matplotlib.pyplot as plt\n",
    "plt.plot(loss_list)\n",
    "plt.xlabel('Iterations')\n",
    "plt.ylabel('Cost')\n",
    "plt.title('Cost')\n",
    "plt.show()"
   ]
  },
  {
   "cell_type": "code",
   "execution_count": 29,
   "metadata": {},
   "outputs": [],
   "source": [
    "#NOW, TESTING THE ABOVE CODE"
   ]
  },
  {
   "cell_type": "code",
   "execution_count": 31,
   "metadata": {},
   "outputs": [
    {
     "name": "stdout",
     "output_type": "stream",
     "text": [
      "Given Image is 4\n"
     ]
    },
    {
     "data": {
      "image/png": "[encoded data removed]",
      "text/plain": [
       "<Figure size 432x288 with 1 Axes>"
      ]
     },
     "metadata": {
      "needs_background": "light"
     },
     "output_type": "display_data"
    }
   ],
   "source": [
    "import numpy as np\n",
    "train_set = datasets.MNIST('./data', train=True, download=False)\n",
    "test_set = datasets.MNIST('./data', train=False, download=False)\n",
    "train_img = train_set.data.numpy()\n",
    "test_img = test_set.data.numpy()\n",
    "img_tensor=transforms.ToTensor()\n",
    "req=test_img[4514]\n",
    "req=img_tensor(req)\n",
    "plt.imshow(np.squeeze(test_img[4514]))\n",
    "req=req.view(-1,784)\n",
    "output=net(req)\n",
    "prediction=torch.max(output,1)[1]\n",
    "print(\"Given Image is\",prediction.item())"
   ]
  }
 ],
 "metadata": {
  "kernelspec": {
   "display_name": "Python 3",
   "language": "python",
   "name": "python3"
  },
  "language_info": {
   "codemirror_mode": {
    "name": "ipython",
    "version": 3
   },
   "file_extension": ".py",
   "mimetype": "text/x-python",
   "name": "python",
   "nbconvert_exporter": "python",
   "pygments_lexer": "ipython3",
   "version": "3.8.5"
  }
 },
 "nbformat": 4,
 "nbformat_minor": 4
}
