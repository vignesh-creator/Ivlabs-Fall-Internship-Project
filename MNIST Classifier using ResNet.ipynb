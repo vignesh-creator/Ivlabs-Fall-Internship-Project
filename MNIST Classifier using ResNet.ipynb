{
 "cells": [
  {
   "cell_type": "code",
   "execution_count": 15,
   "metadata": {},
   "outputs": [],
   "source": [
    "import torch\n",
    "import torchvision\n",
    "from torchvision import transforms,datasets\n",
    "import torch.nn as nn\n",
    "import torch.nn.functional as F\n",
    "device = torch.device('cuda' if torch.cuda.is_available() else 'cpu')"
   ]
  },
  {
   "cell_type": "code",
   "execution_count": 16,
   "metadata": {},
   "outputs": [],
   "source": [
    "#You can change the download to True if you don't have MNIST in your device\n",
    "train=datasets.MNIST(\"\",train=True,download=False,transform=transforms.Compose([transforms.ToTensor()]))"
   ]
  },
  {
   "cell_type": "code",
   "execution_count": 17,
   "metadata": {},
   "outputs": [],
   "source": [
    "test=datasets.MNIST(\"\",train=False,download=False,transform=transforms.Compose([transforms.ToTensor()]))\n",
    "batch=150"
   ]
  },
  {
   "cell_type": "code",
   "execution_count": 18,
   "metadata": {},
   "outputs": [],
   "source": [
    "train_set=torch.utils.data.DataLoader(train,batch_size=batch,shuffle=True)\n",
    "test_set=torch.utils.data.DataLoader(test,batch_size=batch,shuffle=True)"
   ]
  },
  {
   "cell_type": "code",
   "execution_count": 19,
   "metadata": {},
   "outputs": [],
   "source": [
    "def conv3x3(in_channels, out_channels, stride=1):\n",
    "    return nn.Conv2d(in_channels, out_channels, kernel_size=3,stride=stride, padding=1).to(device)"
   ]
  },
  {
   "cell_type": "code",
   "execution_count": 20,
   "metadata": {},
   "outputs": [],
   "source": [
    "class ResidualBlock(nn.Module):\n",
    "    def __init__(self, in_channels, out_channels, stride=1, downsample=None):\n",
    "        super(ResidualBlock, self).__init__()\n",
    "        self.subblock_1=nn.Sequential(\n",
    "            conv3x3(in_channels, out_channels, stride).to(device),\n",
    "            nn.BatchNorm2d(out_channels).to(device),\n",
    "            nn.ReLU()\n",
    "        )\n",
    "        self.subblock_2=nn.Sequential(\n",
    "            conv3x3(out_channels, out_channels).to(device),\n",
    "            nn.BatchNorm2d(out_channels).to(device),\n",
    "            nn.ReLU(),\n",
    "        )\n",
    "        self.downsample = downsample\n",
    "    def forward(self, x):\n",
    "        residual = x\n",
    "        x = self.subblock_1(x).to(device)\n",
    "        x = self.subblock_2(x).to(device)\n",
    "        if self.downsample:\n",
    "            residual = self.downsample(residual)\n",
    "        x += residual\n",
    "        x = F.relu(x)        \n",
    "        return x\n",
    "block=ResidualBlock"
   ]
  },
  {
   "cell_type": "code",
   "execution_count": 23,
   "metadata": {},
   "outputs": [],
   "source": [
    "# ResNet\n",
    "class ResNet(nn.Module):\n",
    "    def __init__(self,num_classes=10):\n",
    "        super(ResNet, self).__init__()\n",
    "        self.in_channels=16\n",
    "        self.layer=nn.Sequential(\n",
    "            conv3x3(1, 16).to(device),\n",
    "            nn.BatchNorm2d(16).to(device),\n",
    "            nn.ReLU()\n",
    "        )\n",
    "        self.layer1 = self.make_layer(block,16,2).to(device)\n",
    "        self.layer2 = self.make_layer(block, 32,2,2).to(device)\n",
    "        self.layer3 = self.make_layer(block, 64,2,2).to(device)\n",
    "        self.max_pool = nn.MaxPool2d(5,2).to(device)\n",
    "        self.fc = nn.Linear(256,num_classes).to(device)\n",
    "\n",
    "    def make_layer(self, block, out_channels, blocks, stride=1):\n",
    "        downsample = None\n",
    "        if (stride != 1) or (self.in_channels != out_channels):\n",
    "            downsample = nn.Sequential(\n",
    "                conv3x3(self.in_channels, out_channels, stride=stride).to(device),\n",
    "                nn.BatchNorm2d(out_channels).to(device)\n",
    "            )\n",
    "        layers = []\n",
    "        layers.append(block(self.in_channels, out_channels, stride, downsample))\n",
    "        self.in_channels = out_channels\n",
    "        for i in range(1, blocks):\n",
    "            layers.append(block(out_channels, out_channels))\n",
    "        return nn.Sequential(*layers)\n",
    "\n",
    "    def forward(self, x):\n",
    "        x=self.layer(x)\n",
    "        x = self.layer1(x)\n",
    "        x = self.layer2(x)\n",
    "        x = self.layer3(x)\n",
    "        x = self.max_pool(x)\n",
    "        x = x.view(x.size(0), -1)\n",
    "        return self.fc(x)\n",
    "net=ResNet()"
   ]
  },
  {
   "cell_type": "code",
   "execution_count": 24,
   "metadata": {},
   "outputs": [],
   "source": [
    "import torch.optim as optim\n",
    "loss_function = nn.CrossEntropyLoss().to(device)\n",
    "optimizer = torch.optim.Adam(net.parameters(), lr=0.01)"
   ]
  },
  {
   "cell_type": "code",
   "execution_count": 25,
   "metadata": {},
   "outputs": [
    {
     "name": "stdout",
     "output_type": "stream",
     "text": [
      "For iteration: 1 Loss is: 0.1824140101671219 Accuracy is: 82.42166666666667\n",
      "For iteration: 2 Loss is: 0.029948212206363678 Accuracy is: 90.35083333333334\n",
      "For iteration: 3 Loss is: 0.018901024013757706 Accuracy is: 93.10611111111112\n",
      "For iteration: 4 Loss is: 0.039605118334293365 Accuracy is: 94.565\n",
      "For iteration: 5 Loss is: 0.025747736915946007 Accuracy is: 95.46833333333333\n"
     ]
    }
   ],
   "source": [
    "loss_list=[]\n",
    "correct=0\n",
    "total=0            \n",
    "for epoch in range(5):\n",
    "    for data in train_set:  \n",
    "        X, Y = data  \n",
    "        net.zero_grad()\n",
    "#         print(X.shape)\n",
    "        output = net(X.to(device)) \n",
    "        loss = loss_function(output,Y.to(device)) \n",
    "        loss_list.append(loss.item())\n",
    "        torch.autograd.set_detect_anomaly(True)\n",
    "        loss.backward()  \n",
    "        optimizer.step()\n",
    "        for idx, i in enumerate(output):\n",
    "            if torch.argmax(i) == Y[idx]:\n",
    "                correct += 1\n",
    "            total += 1\n",
    "    print(\"For iteration:\",epoch+1,\"Loss is:\",loss.item(),\"Accuracy is:\",(correct/total)*100)  "
   ]
  },
  {
   "cell_type": "code",
   "execution_count": 26,
   "metadata": {},
   "outputs": [
    {
     "name": "stdout",
     "output_type": "stream",
     "text": [
      "Accuracy:  98.59\n"
     ]
    }
   ],
   "source": [
    "correct = 0\n",
    "total = 0\n",
    "with torch.no_grad():\n",
    "    for data in test_set:\n",
    "        X, Y = data\n",
    "        output = net(X.to(device))\n",
    "        #print(output)\n",
    "        for idx, i in enumerate(output):\n",
    "            if torch.argmax(i) == Y[idx]:\n",
    "                correct += 1\n",
    "            total += 1\n",
    "\n",
    "print(\"Accuracy: \", (correct/total)*100)"
   ]
  },
  {
   "cell_type": "code",
   "execution_count": 27,
   "metadata": {},
   "outputs": [
    {
     "data": {
      "image/png": "[encoded data removed]",
      "text/plain": [
       "<Figure size 432x288 with 1 Axes>"
      ]
     },
     "metadata": {
      "needs_background": "light"
     },
     "output_type": "display_data"
    }
   ],
   "source": [
    "import matplotlib.pyplot as plt\n",
    "plt.plot(loss_list)\n",
    "plt.xlabel('Iterations')\n",
    "plt.ylabel('Cost')\n",
    "plt.title('Cost')\n",
    "plt.show()"
   ]
  },
  {
   "cell_type": "code",
   "execution_count": 28,
   "metadata": {},
   "outputs": [],
   "source": [
    "#NOW, TESTING THE ABOVE CODE"
   ]
  },
  {
   "cell_type": "code",
   "execution_count": 29,
   "metadata": {},
   "outputs": [
    {
     "name": "stdout",
     "output_type": "stream",
     "text": [
      "Given Image is 8\n"
     ]
    },
    {
     "data": {
      "image/png": "[encoded data removed]",
      "text/plain": [
       "<Figure size 432x288 with 1 Axes>"
      ]
     },
     "metadata": {
      "needs_background": "light"
     },
     "output_type": "display_data"
    }
   ],
   "source": [
    "import numpy as np\n",
    "train_set = datasets.MNIST('./data', train=True, download=False)\n",
    "test_set = datasets.MNIST('./data', train=False, download=False)\n",
    "train_img = train_set.data.numpy()\n",
    "test_img = test_set.data.numpy()\n",
    "img_tensor=transforms.ToTensor()\n",
    "req=test_img[4545]\n",
    "req=img_tensor(req).to(device)\n",
    "req=req.view(1,1,28,28)\n",
    "plt.imshow(np.squeeze(test_img[4545]))\n",
    "output=net(req)\n",
    "prediction=torch.argmax(output)\n",
    "print(\"Given Image is\",prediction.item())"
   ]
  },
  {
   "cell_type": "code",
   "execution_count": null,
   "metadata": {},
   "outputs": [],
   "source": []
  }
 ],
 "metadata": {
  "kernelspec": {
   "display_name": "Python 3",
   "language": "python",
   "name": "python3"
  },
  "language_info": {
   "codemirror_mode": {
    "name": "ipython",
    "version": 3
   },
   "file_extension": ".py",
   "mimetype": "text/x-python",
   "name": "python",
   "nbconvert_exporter": "python",
   "pygments_lexer": "ipython3",
   "version": "3.8.5"
  }
 },
 "nbformat": 4,
 "nbformat_minor": 4
}
