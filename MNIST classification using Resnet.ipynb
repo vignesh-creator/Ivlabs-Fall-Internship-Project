{
 "cells": [
  {
   "cell_type": "code",
   "execution_count": 352,
   "id": "2823aaf3",
   "metadata": {},
   "outputs": [],
   "source": [
    "import torch\n",
    "import torch.nn as nn\n",
    "import torchvision\n",
    "from torchvision import transforms,datasets,models\n",
    "import numpy as np\n",
    "import matplotlib.pyplot as plt\n",
    "import torch.nn.functional as F\n",
    "device = torch.device('cuda' if torch.cuda.is_available() else 'cpu')"
   ]
  },
  {
   "cell_type": "code",
   "execution_count": 353,
   "id": "fd2077fd",
   "metadata": {},
   "outputs": [
    {
     "data": {
      "text/plain": [
       "device(type='cuda')"
      ]
     },
     "execution_count": 353,
     "metadata": {},
     "output_type": "execute_result"
    }
   ],
   "source": [
    "device"
   ]
  },
  {
   "cell_type": "code",
   "execution_count": 354,
   "id": "48b660ed",
   "metadata": {},
   "outputs": [],
   "source": [
    "train_set = datasets.MNIST('./data',train=True,download=False)\n",
    "test_set = datasets.MNIST('./data',train=False,download=False)\n",
    "train_img = train_set.data.numpy()\n",
    "test_img = test_set.data.numpy()\n",
    "train_label = train_set.targets.numpy()\n",
    "test_label = test_set.targets.numpy()\n",
    "train_img = train_img.reshape(-1, 28, 28,1)\n",
    "test_img = test_img.reshape(-1, 28, 28,1)"
   ]
  },
  {
   "cell_type": "code",
   "execution_count": 355,
   "id": "c5867e1b",
   "metadata": {},
   "outputs": [],
   "source": [
    "class block(nn.Module):\n",
    "    def __init__(self,in_channel,intermediate_channel,downsample=None,stride=1):\n",
    "        super().__init__()\n",
    "        self.expansion = 4\n",
    "        self.block1 = nn.Sequential(\n",
    "                    nn.Conv2d(in_channel,intermediate_channel,3,stride,1).to(device),\n",
    "                    nn.BatchNorm2d(intermediate_channel).to(device),\n",
    "                    nn.ReLU()\n",
    "                )\n",
    "        self.block2 = nn.Sequential(\n",
    "                    nn.Conv2d(intermediate_channel,intermediate_channel,3,1,1).to(device),\n",
    "                    nn.BatchNorm2d(intermediate_channel).to(device),\n",
    "                    nn.ReLU()\n",
    "                )\n",
    "        self.downsample = downsample\n",
    "        self.stride = stride\n",
    "    def forward(self,x):\n",
    "        initial = x\n",
    "        x = self.block1(x)\n",
    "        x = self.block2(x)\n",
    "        if self.downsample is not None:\n",
    "            initial = self.downsample(initial)\n",
    "        x += initial\n",
    "        x = F.relu(x)\n",
    "        return x"
   ]
  },
  {
   "cell_type": "code",
   "execution_count": 356,
   "id": "d31cf41b",
   "metadata": {},
   "outputs": [
    {
     "data": {
      "text/plain": [
       "ResNet(\n",
       "  (initial_layer): Sequential(\n",
       "    (0): Conv2d(1, 64, kernel_size=(7, 7), stride=(2, 2), padding=(3, 3))\n",
       "    (1): BatchNorm2d(64, eps=1e-05, momentum=0.1, affine=True, track_running_stats=True)\n",
       "    (2): MaxPool2d(kernel_size=3, stride=2, padding=1, dilation=1, ceil_mode=False)\n",
       "  )\n",
       "  (layer_1): Sequential(\n",
       "    (0): block(\n",
       "      (block1): Sequential(\n",
       "        (0): Conv2d(64, 64, kernel_size=(3, 3), stride=(1, 1), padding=(1, 1))\n",
       "        (1): BatchNorm2d(64, eps=1e-05, momentum=0.1, affine=True, track_running_stats=True)\n",
       "        (2): ReLU()\n",
       "      )\n",
       "      (block2): Sequential(\n",
       "        (0): Conv2d(64, 64, kernel_size=(3, 3), stride=(1, 1), padding=(1, 1))\n",
       "        (1): BatchNorm2d(64, eps=1e-05, momentum=0.1, affine=True, track_running_stats=True)\n",
       "        (2): ReLU()\n",
       "      )\n",
       "    )\n",
       "  )\n",
       "  (layer_2): Sequential(\n",
       "    (0): block(\n",
       "      (block1): Sequential(\n",
       "        (0): Conv2d(64, 128, kernel_size=(3, 3), stride=(2, 2), padding=(1, 1))\n",
       "        (1): BatchNorm2d(128, eps=1e-05, momentum=0.1, affine=True, track_running_stats=True)\n",
       "        (2): ReLU()\n",
       "      )\n",
       "      (block2): Sequential(\n",
       "        (0): Conv2d(128, 128, kernel_size=(3, 3), stride=(1, 1), padding=(1, 1))\n",
       "        (1): BatchNorm2d(128, eps=1e-05, momentum=0.1, affine=True, track_running_stats=True)\n",
       "        (2): ReLU()\n",
       "      )\n",
       "      (downsample): Sequential(\n",
       "        (0): Conv2d(64, 128, kernel_size=(1, 1), stride=(2, 2))\n",
       "        (1): BatchNorm2d(128, eps=1e-05, momentum=0.1, affine=True, track_running_stats=True)\n",
       "      )\n",
       "    )\n",
       "  )\n",
       "  (layer_3): Sequential(\n",
       "    (0): block(\n",
       "      (block1): Sequential(\n",
       "        (0): Conv2d(128, 256, kernel_size=(3, 3), stride=(2, 2), padding=(1, 1))\n",
       "        (1): BatchNorm2d(256, eps=1e-05, momentum=0.1, affine=True, track_running_stats=True)\n",
       "        (2): ReLU()\n",
       "      )\n",
       "      (block2): Sequential(\n",
       "        (0): Conv2d(256, 256, kernel_size=(3, 3), stride=(1, 1), padding=(1, 1))\n",
       "        (1): BatchNorm2d(256, eps=1e-05, momentum=0.1, affine=True, track_running_stats=True)\n",
       "        (2): ReLU()\n",
       "      )\n",
       "      (downsample): Sequential(\n",
       "        (0): Conv2d(128, 256, kernel_size=(1, 1), stride=(2, 2))\n",
       "        (1): BatchNorm2d(256, eps=1e-05, momentum=0.1, affine=True, track_running_stats=True)\n",
       "      )\n",
       "    )\n",
       "  )\n",
       "  (layer_4): Sequential(\n",
       "    (0): block(\n",
       "      (block1): Sequential(\n",
       "        (0): Conv2d(256, 512, kernel_size=(3, 3), stride=(2, 2), padding=(1, 1))\n",
       "        (1): BatchNorm2d(512, eps=1e-05, momentum=0.1, affine=True, track_running_stats=True)\n",
       "        (2): ReLU()\n",
       "      )\n",
       "      (block2): Sequential(\n",
       "        (0): Conv2d(512, 512, kernel_size=(3, 3), stride=(1, 1), padding=(1, 1))\n",
       "        (1): BatchNorm2d(512, eps=1e-05, momentum=0.1, affine=True, track_running_stats=True)\n",
       "        (2): ReLU()\n",
       "      )\n",
       "      (downsample): Sequential(\n",
       "        (0): Conv2d(256, 512, kernel_size=(1, 1), stride=(2, 2))\n",
       "        (1): BatchNorm2d(512, eps=1e-05, momentum=0.1, affine=True, track_running_stats=True)\n",
       "      )\n",
       "    )\n",
       "  )\n",
       "  (fc_layer): Sequential(\n",
       "    (0): Flatten(start_dim=1, end_dim=-1)\n",
       "    (1): Linear(in_features=512, out_features=10, bias=True)\n",
       "  )\n",
       ")"
      ]
     },
     "execution_count": 356,
     "metadata": {},
     "output_type": "execute_result"
    }
   ],
   "source": [
    "class ResNet(nn.Module):\n",
    "    def __init__(self,img_channel,layers,block,classes):\n",
    "        super().__init__()\n",
    "        self.img_channel = img_channel\n",
    "        self.in_channel = 64 \n",
    "        self.initial_layer = nn.Sequential(\n",
    "                                    nn.Conv2d(self.img_channel,self.in_channel,kernel_size=7,stride=2,padding=3).to(device),\n",
    "                                    nn.BatchNorm2d(self.in_channel).to(device),\n",
    "                                    nn.MaxPool2d(kernel_size=3,stride=2,padding =1)\n",
    "                                )\n",
    "        self.layer_1 = self.create_layer(block,layers[0],64,stride=1)\n",
    "        self.layer_2 = self.create_layer(block,layers[1],128,stride=2)\n",
    "        self.layer_3 = self.create_layer(block,layers[2],256,stride=2)\n",
    "        self.layer_4 = self.create_layer(block,layers[0],512,stride=2)\n",
    "        \n",
    "        self.fc_layer = nn.Sequential(\n",
    "                                        nn.Flatten(),\n",
    "                                        nn.Linear(512,classes).to(device)\n",
    "                                        )\n",
    "        \n",
    "    def forward(self,x):\n",
    "        x = self.initial_layer(x)\n",
    "        x = self.layer_1(x)\n",
    "        x = self.layer_2(x)\n",
    "        x = self.layer_3(x)\n",
    "        x = self.layer_4(x)\n",
    "#         x = x.view(x.shape[0],512)\n",
    "        x = self.fc_layer(x)\n",
    "        return x\n",
    "    \n",
    "    def create_layer(self,block,residual_blocks,intermediate_channel,stride):\n",
    "        identity_downsample = None\n",
    "        layers = []\n",
    "        if stride!=1 or self.in_channel!=intermediate_channel:\n",
    "            identity_downsample = nn.Sequential(\n",
    "                                nn.Conv2d(self.in_channel,intermediate_channel,1,stride).to(device),\n",
    "                                nn.BatchNorm2d(intermediate_channel).to(device)\n",
    "            )\n",
    "        layers.append(block(self.in_channel,intermediate_channel,identity_downsample,stride))\n",
    "        self.in_channel = intermediate_channel\n",
    "        for i in range(1,residual_blocks):\n",
    "            layers.append(block(self.in_channel,intermediate_channel))\n",
    "        return nn.Sequential(*layers)\n",
    "resnet = ResNet(1,[1,1,1,1],block,10)\n",
    "resnet"
   ]
  },
  {
   "cell_type": "code",
   "execution_count": 357,
   "id": "ca025114",
   "metadata": {},
   "outputs": [],
   "source": [
    "train_images = torch.Tensor(train_img).view(train_img.shape[0],1,28,28).to(device)\n",
    "test_images = torch.Tensor(test_img).view(test_img.shape[0],1,28,28).to(device)\n",
    "train_label = torch.Tensor(train_label)\n",
    "test_label = torch.Tensor(test_label)"
   ]
  },
  {
   "cell_type": "code",
   "execution_count": 358,
   "id": "f0260d95",
   "metadata": {},
   "outputs": [],
   "source": [
    "train_label_one_hot = F.one_hot(train_label.type(torch.int64),10)\n",
    "test_label_one_hot = F.one_hot(test_label.type(torch.int64),10)"
   ]
  },
  {
   "cell_type": "code",
   "execution_count": 359,
   "id": "6b990c0a",
   "metadata": {},
   "outputs": [],
   "source": [
    "batch_size = 200\n",
    "epoch = 5\n",
    "lr = 0.001"
   ]
  },
  {
   "cell_type": "code",
   "execution_count": 360,
   "id": "97abfa30",
   "metadata": {},
   "outputs": [
    {
     "data": {
      "text/plain": [
       "Adam (\n",
       "Parameter Group 0\n",
       "    amsgrad: False\n",
       "    betas: (0.9, 0.999)\n",
       "    eps: 1e-08\n",
       "    lr: 0.001\n",
       "    weight_decay: 0\n",
       ")"
      ]
     },
     "execution_count": 360,
     "metadata": {},
     "output_type": "execute_result"
    }
   ],
   "source": [
    "optimiser = torch.optim.Adam(resnet.parameters(),lr=lr)\n",
    "optimiser"
   ]
  },
  {
   "cell_type": "code",
   "execution_count": 361,
   "id": "3a3c6103",
   "metadata": {},
   "outputs": [
    {
     "data": {
      "text/plain": [
       "MSELoss()"
      ]
     },
     "execution_count": 361,
     "metadata": {},
     "output_type": "execute_result"
    }
   ],
   "source": [
    "loss_function = nn.MSELoss()\n",
    "loss_function"
   ]
  },
  {
   "cell_type": "code",
   "execution_count": 362,
   "id": "203b61f5",
   "metadata": {},
   "outputs": [],
   "source": [
    "loss_list = []"
   ]
  },
  {
   "cell_type": "code",
   "execution_count": 379,
   "id": "fa300a1b",
   "metadata": {},
   "outputs": [],
   "source": [
    "def train(X,Y):\n",
    "    for e in range(0,epoch):\n",
    "        batch = torch.randperm(X.shape[0]).to(device)\n",
    "        loss_val = 0\n",
    "        true_val = 0\n",
    "        total = 0\n",
    "        for i in range(0,X.shape[0],batch_size):\n",
    "            train_img = X[batch[i:i+batch_size]]\n",
    "            train_lab = Y[batch[i:i+batch_size]]\n",
    "            output = resnet(train_img)\n",
    "            optimiser.zero_grad()\n",
    "            loss_val = loss_function(output,train_lab)\n",
    "            loss_val.backward()\n",
    "            loss_list.append(loss_val.item())\n",
    "            optimiser.step()\n",
    "            for idx,j in enumerate(output):\n",
    "                if(torch.argmax(j) == torch.argmax(Y[idx])):\n",
    "                    true_val += 1\n",
    "                total += 1\n",
    "        print(\"For epoch \",e+1,\" Loss is: \",true_val/total)"
   ]
  },
  {
   "cell_type": "code",
   "execution_count": 380,
   "id": "22a0f96e",
   "metadata": {},
   "outputs": [
    {
     "name": "stdout",
     "output_type": "stream",
     "text": [
      "For epoch  1  Loss is:  0.10195\n",
      "For epoch  2  Loss is:  0.10165\n",
      "For epoch  3  Loss is:  0.10216666666666667\n",
      "For epoch  4  Loss is:  0.10016666666666667\n",
      "For epoch  5  Loss is:  0.10043333333333333\n"
     ]
    }
   ],
   "source": [
    "train(train_images.to(device),train_label_one_hot.type(torch.float).to(device))"
   ]
  },
  {
   "cell_type": "code",
   "execution_count": 381,
   "id": "cb5860c8",
   "metadata": {},
   "outputs": [
    {
     "data": {
      "text/plain": [
       "[<matplotlib.lines.Line2D at 0x23edfaa59a0>]"
      ]
     },
     "execution_count": 381,
     "metadata": {},
     "output_type": "execute_result"
    },
    {
     "data": {
      "image/png": "[encoded data removed]",
      "text/plain": [
       "<Figure size 432x288 with 1 Axes>"
      ]
     },
     "metadata": {
      "needs_background": "light"
     },
     "output_type": "display_data"
    }
   ],
   "source": [
    "import matplotlib.pyplot as plt\n",
    "plt.plot(loss_list)"
   ]
  },
  {
   "cell_type": "code",
   "execution_count": 404,
   "id": "a8aaa198",
   "metadata": {},
   "outputs": [],
   "source": [
    "check_list = []\n",
    "true_val_list = []\n",
    "def test(X,Y):\n",
    "    with torch.no_grad():\n",
    "        batch = torch.randperm(X.shape[0]).to(device)\n",
    "        loss_val = 0\n",
    "        true_val = 0\n",
    "        total = 0\n",
    "        for i in range(0,X.shape[0],batch_size):\n",
    "            train_img = X[batch[i:i+batch_size]]\n",
    "            train_lab = Y[batch[i:i+batch_size]]\n",
    "            output = resnet(train_img)\n",
    "            loss_val = loss_function(output,train_lab)\n",
    "            for idx,j in enumerate(output):\n",
    "                if(torch.argmax(j) == torch.argmax(Y[idx])):\n",
    "                    true_val += 1\n",
    "                    true_val_list.append(torch.argmax(Y[idx]))\n",
    "                total += 1\n",
    "        check_list.append(batch)\n",
    "        check_list.append(output)\n",
    "        print(\"For test,Loss is: \",true_val/total)"
   ]
  },
  {
   "cell_type": "code",
   "execution_count": 405,
   "id": "e1830ad6",
   "metadata": {},
   "outputs": [
    {
     "name": "stdout",
     "output_type": "stream",
     "text": [
      "For test,Loss is:  0.1016\n"
     ]
    }
   ],
   "source": [
    "test(test_images.to(device),test_label_one_hot.type(torch.float).to(device))"
   ]
  },
  {
   "cell_type": "code",
   "execution_count": 431,
   "id": "5d5cf158",
   "metadata": {},
   "outputs": [
    {
     "name": "stdout",
     "output_type": "stream",
     "text": [
      "Given number is:  5\n"
     ]
    },
    {
     "data": {
      "text/plain": [
       "<matplotlib.image.AxesImage at 0x23ea5c4d1c0>"
      ]
     },
     "execution_count": 431,
     "metadata": {},
     "output_type": "execute_result"
    },
    {
     "data": {
      "image/png": "[encoded data removed]",
      "text/plain": [
       "<Figure size 432x288 with 1 Axes>"
      ]
     },
     "metadata": {
      "needs_background": "light"
     },
     "output_type": "display_data"
    }
   ],
   "source": [
    "img_fin = test_images[0:20].view(20,1,28,28)\n",
    "fin_img = resnet(img_fin)\n",
    "print(\"Given number is: \",torch.argmax(fin_img[15]).item())\n",
    "img = test_img[15]\n",
    "plt.imshow(img)"
   ]
  },
  {
   "cell_type": "code",
   "execution_count": null,
   "id": "ae773cec",
   "metadata": {},
   "outputs": [],
   "source": []
  }
 ],
 "metadata": {
  "kernelspec": {
   "display_name": "Python 3",
   "language": "python",
   "name": "python3"
  },
  "language_info": {
   "codemirror_mode": {
    "name": "ipython",
    "version": 3
   },
   "file_extension": ".py",
   "mimetype": "text/x-python",
   "name": "python",
   "nbconvert_exporter": "python",
   "pygments_lexer": "ipython3",
   "version": "3.8.5"
  }
 },
 "nbformat": 4,
 "nbformat_minor": 5
}
